{
 "cells": [
  {
   "cell_type": "code",
   "execution_count": 1,
   "metadata": {},
   "outputs": [
    {
     "ename": "KeyboardInterrupt",
     "evalue": "",
     "output_type": "error",
     "traceback": [
      "\u001b[0;31m---------------------------------------------------------------------------\u001b[0m",
      "\u001b[0;31mKeyboardInterrupt\u001b[0m                         Traceback (most recent call last)",
      "Cell \u001b[0;32mIn[1], line 56\u001b[0m\n\u001b[1;32m     53\u001b[0m     out\u001b[38;5;241m.\u001b[39mwrite(overlapped)\n\u001b[1;32m     55\u001b[0m     \u001b[38;5;66;03m# Press 'q' to quit\u001b[39;00m\n\u001b[0;32m---> 56\u001b[0m     \u001b[38;5;28;01mif\u001b[39;00m \u001b[43mcv2\u001b[49m\u001b[38;5;241;43m.\u001b[39;49m\u001b[43mwaitKey\u001b[49m\u001b[43m(\u001b[49m\u001b[38;5;241;43m1\u001b[39;49m\u001b[43m)\u001b[49m \u001b[38;5;241m&\u001b[39m \u001b[38;5;241m0xFF\u001b[39m \u001b[38;5;241m==\u001b[39m \u001b[38;5;28mord\u001b[39m(\u001b[38;5;124m'\u001b[39m\u001b[38;5;124mq\u001b[39m\u001b[38;5;124m'\u001b[39m):\n\u001b[1;32m     57\u001b[0m         \u001b[38;5;28;01mbreak\u001b[39;00m\n\u001b[1;32m     59\u001b[0m \u001b[38;5;66;03m# Cleanup\u001b[39;00m\n",
      "\u001b[0;31mKeyboardInterrupt\u001b[0m: "
     ]
    }
   ],
   "source": [
    "import cv2\n",
    "\n",
    "# Open default camera (0)\n",
    "cap = cv2.VideoCapture(0)\n",
    "\n",
    "# Define video codec and create VideoWriter object\n",
    "fourcc = cv2.VideoWriter_fourcc(*'mp4v')  # Use 'mp4v' for .mp4 on macOS\n",
    "out = cv2.VideoWriter('output.mp4', fourcc, 20.0, (640, 480), isColor=False)\n",
    "\n",
    "# Define kernel for morphological operations\n",
    "kernel = cv2.getStructuringElement(cv2.MORPH_RECT, (5, 5))  # 5x5 rectangular kernel\n",
    "\n",
    "while cap.isOpened():\n",
    "    ret, frame = cap.read()\n",
    "    if not ret:\n",
    "        break\n",
    "\n",
    "    # Apply grayscale filter (RGB to Grayscale)\n",
    "    gray = cv2.cvtColor(frame, cv2.COLOR_BGR2GRAY)\n",
    "    \n",
    "    # Apply Otsu's thresholding\n",
    "    _, otsu = cv2.threshold(gray, 0, 255, cv2.THRESH_BINARY + cv2.THRESH_OTSU)\n",
    "\n",
    "    # Apply binary thresholding\n",
    "    _, binary = cv2.threshold(otsu, 127, 255, cv2.THRESH_BINARY)\n",
    "\n",
    "    # Apply morphological opening (erosion followed by dilation)\n",
    "    opening = cv2.morphologyEx(binary, cv2.MORPH_OPEN, kernel)\n",
    "\n",
    "    # Apply morphological closing (dilation followed by erosion)\n",
    "    closing = cv2.morphologyEx(opening, cv2.MORPH_CLOSE, kernel)\n",
    "\n",
    "    # Apply Canny edge detection\n",
    "    edges = cv2.Canny(closing, 100, 200)\n",
    "\n",
    "    # Convert edges to 3 channels to match the original frame\n",
    "    edges_colored = cv2.cvtColor(edges, cv2.COLOR_GRAY2BGR)\n",
    "\n",
    "    # Convert the original frame to grayscale for stitching consistency\n",
    "    original_gray = cv2.cvtColor(frame, cv2.COLOR_BGR2GRAY)\n",
    "\n",
    "    # Blend the original frame and the edges using alpha blending\n",
    "    alpha = 0.6  # Transparency factor for the original frame\n",
    "    beta = 1 - alpha  # Transparency factor for the edges\n",
    "    overlapped = cv2.addWeighted(frame, alpha, edges_colored, beta, 0)\n",
    "\n",
    "\n",
    "\n",
    "    # Show the video\n",
    "    cv2.imshow('Gray Filtered Video', overlapped)\n",
    "\n",
    "    # Write the frame\n",
    "    out.write(overlapped)\n",
    "\n",
    "    # Press 'q' to quit\n",
    "    if cv2.waitKey(1) & 0xFF == ord('q'):\n",
    "        break\n",
    "\n",
    "# Cleanup\n",
    "cap.release()\n",
    "out.release()\n",
    "cv2.destroyAllWindows()\n"
   ]
  },
  {
   "cell_type": "code",
   "execution_count": null,
   "metadata": {},
   "outputs": [],
   "source": []
  }
 ],
 "metadata": {
  "kernelspec": {
   "display_name": ".venv",
   "language": "python",
   "name": "python3"
  },
  "language_info": {
   "codemirror_mode": {
    "name": "ipython",
    "version": 3
   },
   "file_extension": ".py",
   "mimetype": "text/x-python",
   "name": "python",
   "nbconvert_exporter": "python",
   "pygments_lexer": "ipython3",
   "version": "3.9.6"
  }
 },
 "nbformat": 4,
 "nbformat_minor": 2
}
