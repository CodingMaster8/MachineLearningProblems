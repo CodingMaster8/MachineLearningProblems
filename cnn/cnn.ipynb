{
 "cells": [
  {
   "cell_type": "code",
   "execution_count": null,
   "id": "6d079b82",
   "metadata": {},
   "outputs": [
    {
     "name": "stdout",
     "output_type": "stream",
     "text": [
      "Finished with folder: Agua\n",
      "Finished with folder: Bosque\n",
      "Finished with folder: Ciudad\n",
      "Finished with folder: Cultivo\n",
      "Finished with folder: Desierto\n",
      "Finished with folder: Montaña\n",
      "Cantidad de imágenes cargadas: 2016\n",
      "Tamaño de la primera imagen: (64, 64, 3)\n"
     ]
    }
   ],
   "source": [
    "# Import Images and resize\n",
    "\n",
    "import os\n",
    "import cv2\n",
    "import numpy as np\n",
    "from glob import glob\n",
    "\n",
    "# Folder names (same as classes)\n",
    "folders = ['Agua', 'Bosque', 'Ciudad', 'Cultivo', 'Desierto', 'Montaña']\n",
    "image_size = (64, 64)\n",
    "\n",
    "\n",
    "resized_images = []\n",
    "labels = []\n",
    "\n",
    "for folder in folders:\n",
    "    label = folders.index(folder)\n",
    "    image_paths = glob(os.path.join(\"Biomas/\"+folder, '*.jpg'))\n",
    "    for path in image_paths:\n",
    "        img = cv2.imread(path)\n",
    "        if img is None:\n",
    "            print(f\"image {path} could not be read\")\n",
    "            continue\n",
    "        resized = cv2.resize(img, image_size)\n",
    "        resized_images.append(resized)\n",
    "        labels.append(label)\n",
    "    print(f\"Finished with folder: {folder}\")\n",
    "    \n",
    "\n",
    "resized_images = np.array(resized_images)\n",
    "labels = np.array(labels)\n",
    "\n",
    "print(f\"Cantidad de imágenes cargadas: {len(resized_images)}\")\n",
    "print(f\"Tamaño de la primera imagen: {resized_images[0].shape if len(resized_images) > 0 else 'Vacío'}\")\n",
    "\n"
   ]
  },
  {
   "cell_type": "code",
   "execution_count": 12,
   "id": "23d77f30",
   "metadata": {},
   "outputs": [
    {
     "name": "stdout",
     "output_type": "stream",
     "text": [
      "(2016, 24)\n"
     ]
    }
   ],
   "source": [
    "# Calculate Histogram and creator vector of characteristics\n",
    "\n",
    "def color_histogram(img, bins=8):\n",
    "    hist_features = []\n",
    "    for i in range(3):  # BGR channels\n",
    "        hist = cv2.calcHist([img], [i], None, [bins], [0, 256])\n",
    "        hist = cv2.normalize(hist, hist).flatten()\n",
    "        hist_features.extend(hist)\n",
    "    return hist_features\n",
    "\n",
    "features = np.array([color_histogram(img) for img in resized_images])\n",
    "print(features.shape)  # Debe imprimir (n_imagenes, n_características)\n"
   ]
  },
  {
   "cell_type": "code",
   "execution_count": 13,
   "id": "25efbe3e",
   "metadata": {},
   "outputs": [
    {
     "name": "stdout",
     "output_type": "stream",
     "text": [
      "SVM lineal: 0.8224356927007838\n",
      "SVM radial: 0.838805493452571\n",
      "MLP (5 capas): 0.8779659975923151\n"
     ]
    }
   ],
   "source": [
    "# SVM lineal, SVM radial, MLP\n",
    "from sklearn.model_selection import StratifiedKFold, cross_val_score\n",
    "from sklearn.svm import SVC\n",
    "from sklearn.neural_network import MLPClassifier\n",
    "from sklearn.preprocessing import StandardScaler\n",
    "\n",
    "scaler = StandardScaler()\n",
    "X_scaled = scaler.fit_transform(features)\n",
    "\n",
    "kfold = StratifiedKFold(n_splits=5, shuffle=True, random_state=42)\n",
    "\n",
    "# SVM lineal\n",
    "svm_linear = SVC(kernel='linear')\n",
    "scores_linear = cross_val_score(svm_linear, X_scaled, labels, cv=kfold)\n",
    "\n",
    "# SVM radial\n",
    "svm_rbf = SVC(kernel='rbf')\n",
    "scores_rbf = cross_val_score(svm_rbf, X_scaled, labels, cv=kfold)\n",
    "\n",
    "# MLP de 5 capas\n",
    "mlp = MLPClassifier(hidden_layer_sizes=(128, 64, 32, 16, 8), max_iter=500)\n",
    "scores_mlp = cross_val_score(mlp, X_scaled, labels, cv=kfold)\n",
    "\n",
    "print(\"SVM lineal:\", scores_linear.mean())\n",
    "print(\"SVM radial:\", scores_rbf.mean())\n",
    "print(\"MLP (5 capas):\", scores_mlp.mean())\n"
   ]
  },
  {
   "cell_type": "code",
   "execution_count": null,
   "id": "33de7eca",
   "metadata": {},
   "outputs": [],
   "source": [
    "# CNN\n",
    "from tensorflow.keras.models import Sequential\n",
    "from tensorflow.keras.layers import Conv2D, MaxPooling2D, Flatten, Dense\n",
    "from tensorflow.keras.utils import to_categorical\n",
    "\n",
    "X = resized_images / 255.0\n",
    "y_cat = to_categorical(labels)\n",
    "\n",
    "def create_cnn():\n",
    "    model = Sequential([\n",
    "        Conv2D(32, (3, 3), activation='relu', input_shape=(64, 64, 3)),\n",
    "        MaxPooling2D((2, 2)),\n",
    "        Conv2D(64, (3, 3), activation='relu'),\n",
    "        MaxPooling2D((2, 2)),\n",
    "        Conv2D(128, (3, 3), activation='relu'),\n",
    "        Flatten(),\n",
    "        Dense(64, activation='relu'),\n",
    "        Dense(6, activation='softmax')\n",
    "    ])\n",
    "    model.compile(optimizer='adam', loss='categorical_crossentropy', metrics=['accuracy'])\n",
    "    return model\n"
   ]
  },
  {
   "cell_type": "code",
   "execution_count": 37,
   "id": "f7540ed2",
   "metadata": {},
   "outputs": [
    {
     "name": "stderr",
     "output_type": "stream",
     "text": [
      "/home/fredi/Documents/6to_semestre/cnn/.venv/lib/python3.12/site-packages/keras/src/layers/convolutional/base_conv.py:113: UserWarning: Do not pass an `input_shape`/`input_dim` argument to a layer. When using Sequential models, prefer using an `Input(shape)` object as the first layer in the model instead.\n",
      "  super().__init__(activity_regularizer=activity_regularizer, **kwargs)\n"
     ]
    },
    {
     "name": "stdout",
     "output_type": "stream",
     "text": [
      "CNN Accuracy promedio: 0.7867159605026245\n"
     ]
    }
   ],
   "source": [
    "from sklearn.model_selection import KFold\n",
    "\n",
    "kfold = KFold(n_splits=5, shuffle=True, random_state=42)\n",
    "cnn_scores = []\n",
    "\n",
    "for train_idx, test_idx in kfold.split(X, labels):\n",
    "    model = create_cnn()\n",
    "    model.fit(X[train_idx], y_cat[train_idx], epochs=10, batch_size=32, verbose=0)\n",
    "    score = model.evaluate(X[test_idx], y_cat[test_idx], verbose=0)\n",
    "    cnn_scores.append(score[1])  # Accuracy\n",
    "\n",
    "print(\"CNN Accuracy promedio:\", np.mean(cnn_scores))\n"
   ]
  },
  {
   "cell_type": "code",
   "execution_count": 21,
   "id": "d3c9e5c4",
   "metadata": {},
   "outputs": [
    {
     "name": "stdout",
     "output_type": "stream",
     "text": [
      "SVM Lineal: 0.8224\n",
      "SVM RBF: 0.8388\n",
      "MLP: 0.8780\n",
      "CNN: 0.8800\n"
     ]
    }
   ],
   "source": [
    "print(f\"SVM Lineal: {scores_linear.mean():.4f}\")\n",
    "print(f\"SVM RBF: {scores_rbf.mean():.4f}\")\n",
    "print(f\"MLP: {scores_mlp.mean():.4f}\")\n",
    "print(f\"CNN: {np.mean(cnn_scores):.4f}\")\n"
   ]
  }
 ],
 "metadata": {
  "kernelspec": {
   "display_name": ".venv",
   "language": "python",
   "name": "python3"
  },
  "language_info": {
   "codemirror_mode": {
    "name": "ipython",
    "version": 3
   },
   "file_extension": ".py",
   "mimetype": "text/x-python",
   "name": "python",
   "nbconvert_exporter": "python",
   "pygments_lexer": "ipython3",
   "version": "3.12.3"
  }
 },
 "nbformat": 4,
 "nbformat_minor": 5
}
