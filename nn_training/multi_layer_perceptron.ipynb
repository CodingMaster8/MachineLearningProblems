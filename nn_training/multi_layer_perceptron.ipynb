{
 "cells": [
  {
   "cell_type": "markdown",
   "id": "25dc9135",
   "metadata": {},
   "source": [
    "# Actividad: Entrenamiento de redes neuronales (2)\n",
    "\n",
    "\n",
    "\n",
    "*   Alfredo Romo Osorno | A01643235\n",
    "*   Jorge Alejandro Gonzales Díaz | Axxxxxxxx\n",
    "*   Pablo Vargas Cárdenas | Axxxxxxxx\n",
    "\n"
   ]
  },
  {
   "cell_type": "markdown",
   "id": "13fe27a3",
   "metadata": {},
   "source": [
    "1.   Ajusta un modelo perceptrón multicapa para [este conjunto de datos](https://experiencia21.tec.mx/courses/554073/files/226526780/download?download_frd=1) con dos clases y evalúa su rendimiento con validación cruzada.  "
   ]
  },
  {
   "cell_type": "code",
   "execution_count": 51,
   "id": "a204da3b",
   "metadata": {},
   "outputs": [],
   "source": [
    "#### Libraries Import ####\n",
    "import numpy as np\n",
    "from tensorflow import keras\n",
    "from tensorflow.keras import layers\n",
    "from sklearn.model_selection import StratifiedKFold\n",
    "from sklearn.metrics import accuracy_score\n",
    "\n",
    "import matplotlib.pyplot as plt\n",
    "##################################################"
   ]
  },
  {
   "cell_type": "code",
   "execution_count": null,
   "id": "f039103d",
   "metadata": {},
   "outputs": [
    {
     "data": {
      "text/plain": [
       "(array([1, 0, 1, 0, 1, 1, 0, 1, 1, 1, 0, 1, 1, 0, 1, 1, 0, 1, 0, 0, 1, 1,\n",
       "        1, 1, 1, 1, 0, 1, 0, 0, 1, 1, 1, 1, 0, 1, 0, 1, 0, 0, 1, 0, 1, 0,\n",
       "        0, 1, 0, 1, 0, 0, 0, 0, 1, 0, 1, 0, 1, 0, 0, 1, 0, 1, 1, 0, 0, 0,\n",
       "        0, 0, 1, 0, 1, 1, 0, 0, 0, 0, 0, 1, 1, 0, 0, 1, 0, 0, 0, 1, 0, 0,\n",
       "        0, 1, 0, 0, 1, 0, 0, 1, 0, 0, 1, 1, 0, 1, 1, 1, 0, 1, 0, 1, 0, 0,\n",
       "        0, 1, 1, 0, 0, 0, 1, 0, 0, 0, 0, 1, 1, 1, 0, 0, 0, 0, 0, 1, 0, 1,\n",
       "        1, 1, 0, 1, 1, 1, 1, 1, 1, 1, 1, 1, 1, 1, 0, 1, 0, 0, 0, 0, 1, 0,\n",
       "        0, 1, 1, 0, 1, 0, 1, 0, 1, 0, 1, 0, 1, 0, 1, 1, 0, 1, 0, 0, 0, 1,\n",
       "        0, 1, 1, 0, 0, 0, 0, 1, 1, 1, 1, 1, 1, 0, 1, 0, 1, 0, 0, 1, 1, 1,\n",
       "        1, 1, 1, 1, 1, 1, 1, 0, 0, 1, 1, 1, 1, 0, 1, 0, 1, 1, 0, 1, 0, 0,\n",
       "        0, 0, 0, 0, 1, 0, 1, 1, 0, 1, 1, 1, 0, 1, 1, 0, 1, 0, 1, 0, 1, 0,\n",
       "        0, 0, 1, 0, 0, 0, 0, 0, 0, 1, 1, 0, 0, 0, 0, 1, 1, 1, 0, 0, 1, 1,\n",
       "        0, 1, 1, 0, 1, 0, 0, 1, 0, 0, 1, 0, 1, 0, 0, 1, 0, 0, 0, 0, 1, 1,\n",
       "        0, 1, 0, 1, 0, 0, 1, 1, 0, 1, 1, 0, 0, 0, 0, 1, 0, 1, 1, 0, 1, 0,\n",
       "        0, 0, 1, 1, 1, 0, 1, 1, 1, 1, 1, 0, 0, 0, 1, 1, 0, 1, 1, 1, 1, 1,\n",
       "        0, 0, 0, 0, 1, 0, 1, 0, 0, 0, 1, 0, 1, 1, 0, 1, 0, 0, 0, 1, 0, 1,\n",
       "        1, 1, 1, 0, 1, 1, 0, 1, 1, 0, 0, 1, 0, 1, 1, 0, 1, 1, 0, 1, 1, 1,\n",
       "        0, 0, 1, 0, 1, 0, 1, 0, 1, 1, 0, 1, 0, 0, 1, 0, 1, 0, 0, 0, 1, 1,\n",
       "        0, 1, 1, 0, 1, 1, 1, 1, 1, 0, 1, 0, 0, 1, 0, 1, 1, 0, 1, 0, 0, 0,\n",
       "        0, 1, 1, 0]),\n",
       " array([[ 0.07300494, -0.52139748, -1.09243296, ..., -0.6946712 ,\n",
       "         -0.81419421, -0.70970561],\n",
       "        [ 0.3834231 , -0.626262  , -1.14035063, ..., -0.05926932,\n",
       "         -0.2265144 , -0.72082199],\n",
       "        [ 0.88681929,  0.57790173,  0.13260463, ..., -0.9202188 ,\n",
       "         -1.06611689, -0.86938367],\n",
       "        ...,\n",
       "        [ 0.68412808,  0.37421418,  0.0515272 , ..., -0.97401312,\n",
       "         -0.35552579, -0.47111676],\n",
       "        [ 0.4734254 ,  0.30035135,  0.2858107 , ...,  1.16578141,\n",
       "          1.18562276,  0.55738045],\n",
       "        [-1.1487351 , -0.89506356, -0.42551145, ..., -0.50570203,\n",
       "         -0.42565581, -0.07877906]]))"
      ]
     },
     "execution_count": 29,
     "metadata": {},
     "output_type": "execute_result"
    }
   ],
   "source": [
    "# Load txt into DF\n",
    "data_dir = \"./data_2_1.txt\"\n",
    "data_array = np.loadtxt(data_dir)\n",
    "df = pd.DataFrame(data_array)\n",
    "\n",
    "# Separate class and predictors\n",
    "y = df.iloc[:, 0].values      # first column as class\n",
    "X = df.iloc[:, 1:].values     # remaining columns as predictors\n",
    "y = np.where(y == 2, 1, 0)    # mat to {1,0} since we're doing a binary classifier\n",
    "\n",
    "y, X\n",
    "\n",
    "\n",
    "\n",
    "# Split the dataset into training and testing sets (80/20)\n",
    "X_train, X_test, y_train, y_test = train_test_split(X, y, test_size=0.2, random_state=42)\n",
    "y_train, X_train"
   ]
  },
  {
   "cell_type": "code",
   "execution_count": 41,
   "id": "54cf7814",
   "metadata": {},
   "outputs": [],
   "source": [
    "# Crete model \n",
    "def create_model(input_dim):\n",
    "    model = keras.Sequential([\n",
    "        layers.Dense(64, activation='relu', input_shape=(X_train.shape[1],)),\n",
    "        layers.Dense(32, activation='relu'),\n",
    "        layers.Dense(1, activation='sigmoid')  # Binary output\n",
    "    ])\n",
    "    model.compile(optimizer='adam',\n",
    "                  loss='binary_crossentropy',\n",
    "                  metrics=['accuracy'])\n",
    "    return model\n"
   ]
  },
  {
   "cell_type": "code",
   "execution_count": 42,
   "id": "8fcc0ed6",
   "metadata": {},
   "outputs": [],
   "source": [
    "X = np.concatenate([X_train, X_test])\n",
    "y = np.concatenate([y_train, y_test])\n"
   ]
  },
  {
   "cell_type": "code",
   "execution_count": 43,
   "id": "ff535292",
   "metadata": {},
   "outputs": [
    {
     "name": "stdout",
     "output_type": "stream",
     "text": [
      "(528, 153)\n"
     ]
    },
    {
     "name": "stderr",
     "output_type": "stream",
     "text": [
      "/home/fredi/.local/lib/python3.10/site-packages/keras/src/layers/core/dense.py:87: UserWarning: Do not pass an `input_shape`/`input_dim` argument to a layer. When using Sequential models, prefer using an `Input(shape)` object as the first layer in the model instead.\n",
      "  super().__init__(activity_regularizer=activity_regularizer, **kwargs)\n"
     ]
    },
    {
     "name": "stdout",
     "output_type": "stream",
     "text": [
      "\u001b[1m4/4\u001b[0m \u001b[32m━━━━━━━━━━━━━━━━━━━━\u001b[0m\u001b[37m\u001b[0m \u001b[1m1s\u001b[0m 164ms/step\n",
      "Fold accuracy: 0.7453\n"
     ]
    },
    {
     "name": "stderr",
     "output_type": "stream",
     "text": [
      "/home/fredi/.local/lib/python3.10/site-packages/keras/src/layers/core/dense.py:87: UserWarning: Do not pass an `input_shape`/`input_dim` argument to a layer. When using Sequential models, prefer using an `Input(shape)` object as the first layer in the model instead.\n",
      "  super().__init__(activity_regularizer=activity_regularizer, **kwargs)\n"
     ]
    },
    {
     "name": "stdout",
     "output_type": "stream",
     "text": [
      "\u001b[1m4/4\u001b[0m \u001b[32m━━━━━━━━━━━━━━━━━━━━\u001b[0m\u001b[37m\u001b[0m \u001b[1m0s\u001b[0m 62ms/step\n",
      "Fold accuracy: 0.8396\n"
     ]
    },
    {
     "name": "stderr",
     "output_type": "stream",
     "text": [
      "/home/fredi/.local/lib/python3.10/site-packages/keras/src/layers/core/dense.py:87: UserWarning: Do not pass an `input_shape`/`input_dim` argument to a layer. When using Sequential models, prefer using an `Input(shape)` object as the first layer in the model instead.\n",
      "  super().__init__(activity_regularizer=activity_regularizer, **kwargs)\n"
     ]
    },
    {
     "name": "stdout",
     "output_type": "stream",
     "text": [
      "\u001b[1m4/4\u001b[0m \u001b[32m━━━━━━━━━━━━━━━━━━━━\u001b[0m\u001b[37m\u001b[0m \u001b[1m0s\u001b[0m 61ms/step\n",
      "Fold accuracy: 0.8208\n"
     ]
    },
    {
     "name": "stderr",
     "output_type": "stream",
     "text": [
      "/home/fredi/.local/lib/python3.10/site-packages/keras/src/layers/core/dense.py:87: UserWarning: Do not pass an `input_shape`/`input_dim` argument to a layer. When using Sequential models, prefer using an `Input(shape)` object as the first layer in the model instead.\n",
      "  super().__init__(activity_regularizer=activity_regularizer, **kwargs)\n"
     ]
    },
    {
     "name": "stdout",
     "output_type": "stream",
     "text": [
      "\u001b[1m4/4\u001b[0m \u001b[32m━━━━━━━━━━━━━━━━━━━━\u001b[0m\u001b[37m\u001b[0m \u001b[1m0s\u001b[0m 65ms/step\n",
      "Fold accuracy: 0.7714\n"
     ]
    },
    {
     "name": "stderr",
     "output_type": "stream",
     "text": [
      "/home/fredi/.local/lib/python3.10/site-packages/keras/src/layers/core/dense.py:87: UserWarning: Do not pass an `input_shape`/`input_dim` argument to a layer. When using Sequential models, prefer using an `Input(shape)` object as the first layer in the model instead.\n",
      "  super().__init__(activity_regularizer=activity_regularizer, **kwargs)\n"
     ]
    },
    {
     "name": "stdout",
     "output_type": "stream",
     "text": [
      "\u001b[1m4/4\u001b[0m \u001b[32m━━━━━━━━━━━━━━━━━━━━\u001b[0m\u001b[37m\u001b[0m \u001b[1m0s\u001b[0m 69ms/step\n",
      "Fold accuracy: 0.8000\n",
      "\n",
      "Average accuracy over 5 folds: 0.7954\n"
     ]
    }
   ],
   "source": [
    "print(X.shape)\n",
    "k = 5  # Number of folds\n",
    "skf = StratifiedKFold(n_splits=k, shuffle=True, random_state=42)\n",
    "accuracies = []\n",
    "\n",
    "for train_index, val_index in skf.split(X, y):\n",
    "    X_train_fold, X_val_fold = X[train_index], X[val_index]\n",
    "    y_train_fold, y_val_fold = y[train_index], y[val_index]\n",
    "\n",
    "    model = create_model(input_dim=X.shape[1])\n",
    "    model.fit(X_train_fold, y_train_fold, epochs=20, batch_size=32, verbose=0)\n",
    "    \n",
    "    y_pred = (model.predict(X_val_fold) > 0.5).astype(\"int32\").flatten()\n",
    "    acc = accuracy_score(y_val_fold, y_pred)\n",
    "    accuracies.append(acc)\n",
    "    print(f\"Fold accuracy: {acc:.4f}\")\n",
    "\n",
    "print(f\"\\nAverage accuracy over {k} folds: {np.mean(accuracies):.4f}\")\n"
   ]
  },
  {
   "cell_type": "markdown",
   "id": "da64cade",
   "metadata": {},
   "source": [
    "2.   Ajusta un modelo perceptrón multicapa para [este otro conjunto de datos](https://experiencia21.tec.mx/courses/554073/files/226526779/download?download_frd=1) de cuatro clases y evalúa su rendimiento con validación cruzada."
   ]
  },
  {
   "cell_type": "code",
   "execution_count": 58,
   "id": "df4a61df",
   "metadata": {},
   "outputs": [
    {
     "data": {
      "text/plain": [
       "(array([4., 3., 2., 2., 3., 1., 3., 4., 4., 4., 2., 4., 2., 4., 2., 3., 2.,\n",
       "        4., 3., 4., 3., 2., 3., 2., 1., 2., 3., 3., 4., 2., 4., 3., 1., 4.,\n",
       "        4., 4., 4., 1., 1., 3., 3., 2., 2., 3., 2., 4., 3., 1., 1., 1., 1.,\n",
       "        1., 2., 2., 1., 3., 2., 3., 2., 1., 2., 2., 2., 3., 4., 2., 1., 2.,\n",
       "        3., 2., 3., 1., 4., 3., 2., 4., 3., 1., 4., 2., 4., 3., 2., 1., 1.,\n",
       "        3., 3., 1., 4., 4., 1., 3., 1., 2., 1., 4., 3., 3., 1., 3., 2., 4.,\n",
       "        4., 2., 4., 2., 1., 4., 3., 1., 2., 3., 1., 4., 3., 2., 1., 4., 1.,\n",
       "        2., 4., 3., 1., 3., 3., 1., 2., 1., 3., 4., 4., 4., 1., 3., 2., 1.,\n",
       "        4., 1., 3., 4., 2., 2., 2., 4., 4., 2., 1., 1., 1., 4., 3., 1., 3.,\n",
       "        2., 4., 3., 4., 4., 1., 1., 2., 1., 4., 3., 4., 3., 1., 4., 4., 4.,\n",
       "        3., 1., 4., 1., 2., 1., 1., 4., 3., 4., 3., 3., 3., 1., 3., 4., 4.,\n",
       "        1., 1., 3., 3., 3., 2., 2., 2., 2., 4., 2., 4., 4., 2., 4., 1., 3.,\n",
       "        2., 2., 2.]),\n",
       " array([[-0.66050786, -0.44611915, -0.44611915, ...,  0.00480801,\n",
       "          0.00480801, -1.16800089],\n",
       "        [-1.42354038, -0.45557134, -0.45557134, ..., -0.66712977,\n",
       "         -0.66712977, -0.29587619],\n",
       "        [-0.42394418, -1.95930337, -1.95930337, ...,  1.72537633,\n",
       "          1.72537633, -0.30704325],\n",
       "        ...,\n",
       "        [-0.80655845, -0.49328882, -0.49328882, ...,  2.56916354,\n",
       "          2.56916354,  0.35593527],\n",
       "        [-1.06386469, -0.7019676 , -0.7019676 , ...,  1.01949417,\n",
       "          1.01949417, -1.0303153 ],\n",
       "        [-1.25359784, -1.58054554, -1.58054554, ...,  2.19053246,\n",
       "          2.19053246, -0.13093599]]))"
      ]
     },
     "execution_count": 58,
     "metadata": {},
     "output_type": "execute_result"
    }
   ],
   "source": [
    "from tensorflow.keras.utils import to_categorical\n",
    "\n",
    "# Load txt into DF\n",
    "data_dir = \"./data_2_2.txt\"\n",
    "data_array = np.loadtxt(data_dir)\n",
    "df = pd.DataFrame(data_array)\n",
    "\n",
    "# Separate class and predictors\n",
    "y = df.iloc[:, 0].values      # first column as class\n",
    "X = df.iloc[:, 1:].values     # remaining columns as predictors\n",
    "#y = np.where(y == 2, 1, 0)    # map to {1,0} since we're doing a binary classifier\n",
    "\n",
    "y, X\n",
    "\n",
    "\n",
    "\n",
    "# Split the dataset into training and testing sets (80/20)\n",
    "X_train, X_test, y_train, y_test = train_test_split(X, y, test_size=0.2, random_state=42)\n",
    "y_train, X_train"
   ]
  },
  {
   "cell_type": "code",
   "execution_count": 54,
   "id": "d1375fda",
   "metadata": {},
   "outputs": [],
   "source": [
    "def create_model(input_dim, num_classes):\n",
    "    model = keras.Sequential([\n",
    "        keras.Input(shape=(input_dim,)),\n",
    "        layers.Dense(64, activation='relu'),\n",
    "        layers.Dense(32, activation='relu'),\n",
    "        layers.Dense(num_classes, activation='softmax')  # Multiclass output\n",
    "    ])\n",
    "    model.compile(optimizer='adam',\n",
    "                  loss='categorical_crossentropy',\n",
    "                  metrics=['accuracy'])\n",
    "    return model\n"
   ]
  },
  {
   "cell_type": "code",
   "execution_count": 60,
   "id": "45fd031f",
   "metadata": {},
   "outputs": [
    {
     "name": "stdout",
     "output_type": "stream",
     "text": [
      "\u001b[1m2/2\u001b[0m \u001b[32m━━━━━━━━━━━━━━━━━━━━\u001b[0m\u001b[37m\u001b[0m \u001b[1m0s\u001b[0m 261ms/step\n",
      "Fold accuracy: 0.9423\n",
      "\u001b[1m2/2\u001b[0m \u001b[32m━━━━━━━━━━━━━━━━━━━━\u001b[0m\u001b[37m\u001b[0m \u001b[1m0s\u001b[0m 208ms/step\n",
      "Fold accuracy: 1.0000\n",
      "\u001b[1m2/2\u001b[0m \u001b[32m━━━━━━━━━━━━━━━━━━━━\u001b[0m\u001b[37m\u001b[0m \u001b[1m1s\u001b[0m 240ms/step\n",
      "Fold accuracy: 0.9615\n",
      "\u001b[1m2/2\u001b[0m \u001b[32m━━━━━━━━━━━━━━━━━━━━\u001b[0m\u001b[37m\u001b[0m \u001b[1m0s\u001b[0m 208ms/step\n",
      "Fold accuracy: 0.9808\n",
      "\u001b[1m2/2\u001b[0m \u001b[32m━━━━━━━━━━━━━━━━━━━━\u001b[0m\u001b[37m\u001b[0m \u001b[1m0s\u001b[0m 213ms/step\n",
      "Fold accuracy: 0.9020\n"
     ]
    }
   ],
   "source": [
    "from sklearn.model_selection import StratifiedKFold\n",
    "from tensorflow.keras.utils import to_categorical\n",
    "y_raw = y - 1  # Converts [1, 2, 3, 4] → [0, 1, 2, 3]\n",
    "\n",
    "\n",
    "skf = StratifiedKFold(n_splits=5, shuffle=True, random_state=42)\n",
    "\n",
    "for train_idx, val_idx in skf.split(X, y_raw):\n",
    "    X_train, X_val = X[train_idx], X[val_idx]\n",
    "    y_train = to_categorical(y_raw[train_idx], num_classes=4)\n",
    "    y_val = to_categorical(y_raw[val_idx], num_classes=4)\n",
    "\n",
    "    model = create_model(input_dim=X.shape[1], num_classes=4)\n",
    "    model.fit(X_train, y_train, epochs=20, batch_size=32, verbose=0)\n",
    "\n",
    "    y_pred = model.predict(X_val)\n",
    "    pred_labels = np.argmax(y_pred, axis=1)\n",
    "    true_labels = np.argmax(y_val, axis=1)\n",
    "\n",
    "    acc = accuracy_score(true_labels, pred_labels)\n",
    "    print(f\"Fold accuracy: {acc:.4f}\")\n"
   ]
  },
  {
   "cell_type": "markdown",
   "id": "bf70b61e",
   "metadata": {},
   "source": [
    "3. Para el [conjunto de datos diabetes](https://scikit-learn.org/stable/modules/generated/sklearn.datasets.load_diabetes.html) ajusta un modelo de regresión perceptrón multicapa, y evalúa el error cuadrático medio del modelo con validación cruzada."
   ]
  },
  {
   "cell_type": "code",
   "execution_count": 67,
   "id": "1e4bf411",
   "metadata": {},
   "outputs": [],
   "source": [
    "from sklearn.metrics import mean_squared_error\n",
    "from sklearn.model_selection import KFold\n",
    "from sklearn.metrics import mean_squared_error"
   ]
  },
  {
   "cell_type": "code",
   "execution_count": 72,
   "id": "93be225b",
   "metadata": {},
   "outputs": [],
   "source": [
    "# Load the dataset\n",
    "from sklearn.datasets import load_diabetes\n",
    "data = load_diabetes()\n",
    "X = data.data\n",
    "y = data.target"
   ]
  },
  {
   "cell_type": "code",
   "execution_count": 65,
   "id": "8eb9bc25",
   "metadata": {},
   "outputs": [],
   "source": [
    "def create_regression_model(input_dim):\n",
    "    model = keras.Sequential([\n",
    "        keras.Input(shape=(input_dim,)),\n",
    "        layers.Dense(64, activation='relu'),\n",
    "        layers.Dense(32, activation='relu'),\n",
    "        layers.Dense(1)  # No activation — we're predicting a number\n",
    "    ])\n",
    "    model.compile(optimizer='adam', loss='mse', metrics=['mse'])\n",
    "    return model\n"
   ]
  },
  {
   "cell_type": "code",
   "execution_count": 66,
   "id": "a9a6e94a",
   "metadata": {},
   "outputs": [
    {
     "name": "stdout",
     "output_type": "stream",
     "text": [
      "\u001b[1m3/3\u001b[0m \u001b[32m━━━━━━━━━━━━━━━━━━━━\u001b[0m\u001b[37m\u001b[0m \u001b[1m0s\u001b[0m 116ms/step\n",
      "Fold MSE: 2850.95\n",
      "\u001b[1m3/3\u001b[0m \u001b[32m━━━━━━━━━━━━━━━━━━━━\u001b[0m\u001b[37m\u001b[0m \u001b[1m0s\u001b[0m 93ms/step\n",
      "Fold MSE: 2732.40\n",
      "\u001b[1m3/3\u001b[0m \u001b[32m━━━━━━━━━━━━━━━━━━━━\u001b[0m\u001b[37m\u001b[0m \u001b[1m0s\u001b[0m 132ms/step\n",
      "Fold MSE: 3262.95\n",
      "\u001b[1m3/3\u001b[0m \u001b[32m━━━━━━━━━━━━━━━━━━━━\u001b[0m\u001b[37m\u001b[0m \u001b[1m0s\u001b[0m 94ms/step\n",
      "Fold MSE: 2789.88\n",
      "\u001b[1m3/3\u001b[0m \u001b[32m━━━━━━━━━━━━━━━━━━━━\u001b[0m\u001b[37m\u001b[0m \u001b[1m0s\u001b[0m 84ms/step\n",
      "Fold MSE: 3378.82\n",
      "\n",
      "Average MSE over 5 folds: 3003.00\n"
     ]
    }
   ],
   "source": [
    "kf = KFold(n_splits=5, shuffle=True, random_state=42)\n",
    "mse_scores = []\n",
    "\n",
    "for train_idx, val_idx in kf.split(X):\n",
    "    X_train, X_val = X[train_idx], X[val_idx]\n",
    "    y_train, y_val = y[train_idx], y[val_idx]\n",
    "\n",
    "    model = create_regression_model(input_dim=X.shape[1])\n",
    "    model.fit(X_train, y_train, epochs=100, batch_size=16, verbose=0)\n",
    "\n",
    "    y_pred = model.predict(X_val).flatten()\n",
    "    mse = mean_squared_error(y_val, y_pred)\n",
    "    mse_scores.append(mse)\n",
    "    print(f\"Fold MSE: {mse:.2f}\")\n",
    "\n",
    "print(f\"\\nAverage MSE over 5 folds: {np.mean(mse_scores):.2f}\")\n"
   ]
  }
 ],
 "metadata": {
  "kernelspec": {
   "display_name": "Python 3",
   "language": "python",
   "name": "python3"
  },
  "language_info": {
   "codemirror_mode": {
    "name": "ipython",
    "version": 3
   },
   "file_extension": ".py",
   "mimetype": "text/x-python",
   "name": "python",
   "nbconvert_exporter": "python",
   "pygments_lexer": "ipython3",
   "version": "3.10.12"
  }
 },
 "nbformat": 4,
 "nbformat_minor": 5
}
